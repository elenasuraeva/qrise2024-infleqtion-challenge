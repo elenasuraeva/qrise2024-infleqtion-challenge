{
 "cells": [
  {
   "cell_type": "code",
   "execution_count": 1,
   "id": "01496642-c263-4838-a64f-7bbfa7fa1f4e",
   "metadata": {
    "tags": []
   },
   "outputs": [],
   "source": [
    "import numpy as np\n",
    "from scipy.optimize import minimize\n",
    "\n",
    "from qiskit import transpile\n",
    "from qiskit.circuit import QuantumRegister, ClassicalRegister, QuantumCircuit, ParameterVector\n",
    "from qiskit.circuit.library import PauliEvolutionGate\n",
    "from qiskit.quantum_info import SparsePauliOp\n",
    "from qiskit_aer import AerSimulator\n",
    "from qiskit_ibm_runtime.fake_provider import FakeCairo"
   ]
  },
  {
   "cell_type": "code",
   "execution_count": 2,
   "id": "d37a54d8-070a-4e16-a8be-3c7696e440f2",
   "metadata": {
    "tags": []
   },
   "outputs": [],
   "source": [
    "backend = AerSimulator()\n",
    "#backend = FakeCairo()\n",
    "shots = 100\n",
    "en = 2 # number of encoding layers\n",
    "de = 1 # number of decoding layers\n",
    "h = 4 # half size of register\n",
    "\n",
    "# DO NOT EDIT VARIABLES BELOW\n",
    "\n",
    "n = 2*h # full size of register (should be an EVEN number)\n",
    "deviation = 1\n",
    "angles = np.polynomial.hermite.hermgauss(12)[0][6:]\n",
    "weights = np.polynomial.hermite.hermgauss(12)[1][6:]\n",
    "eta = ParameterVector('η', 3*en)\n",
    "theta = ParameterVector('θ', 3*de)\n",
    "T_x = SparsePauliOp(['I'*(n-1-i)+'X'+'I'*i for i in range(n)], 0.5).power(2)\n",
    "T_z = SparsePauliOp(['I'*(n-1-i)+'Z'+'I'*i for i in range(n)], 0.5).power(2)"
   ]
  },
  {
   "cell_type": "code",
   "execution_count": 3,
   "id": "2c8abc97-01ac-4bad-baa2-0503447e0292",
   "metadata": {
    "tags": []
   },
   "outputs": [],
   "source": [
    "def circuit(phi):\n",
    "    qr = QuantumRegister(n, 'q')\n",
    "    cr = ClassicalRegister(n, 'c')\n",
    "    qc = QuantumCircuit(qr, cr)\n",
    "    qc.ry(np.pi/2, qr)\n",
    "    for i in range(en):\n",
    "        qc.append(PauliEvolutionGate(T_z, time=eta[3*i]), range(n)) # T_z\n",
    "        qc.append(PauliEvolutionGate(T_x, time=eta[3*i+1]), range(n)) # T_x\n",
    "        qc.rx(eta[3*i+2], qr)\n",
    "    qc.rz(-phi, qr)\n",
    "    for i in range(de):\n",
    "        qc.rx(theta[3*i], qr)\n",
    "        qc.append(PauliEvolutionGate(T_x, time=theta[3*i+1]), range(n)) # T_x\n",
    "        qc.append(PauliEvolutionGate(T_z, time=theta[3*i+2]), range(n)) # T_z\n",
    "    qc.rx(np.pi/2, qr)\n",
    "    qc.measure(qr, cr)\n",
    "    return qc\n",
    "\n",
    "def mse(phi, parameters):\n",
    "    bc = circuit(phi).assign_parameters({eta: parameters[:3*en], theta: parameters[3*en:]})\n",
    "    tc = transpile(bc, backend)\n",
    "    result = backend.run(tc, shots=shots).result()\n",
    "    counts = result.get_counts()\n",
    "    data = {m: 0 for m in range(-h,h+1)}\n",
    "    for outcome in counts:\n",
    "        m = outcome.count('1') - h\n",
    "        data[m] += counts[outcome]\n",
    "    a = 0.2\n",
    "    mse = 0\n",
    "    for m in data:\n",
    "        mse += ((phi - a*m)**2)*data[m]/shots\n",
    "    return mse\n",
    "\n",
    "def cost(parameters): \n",
    "    cost = 2*sum([mse(angles[i], parameters)*np.exp(-angles[i]**2/(2*deviation**2))/(deviation*np.sqrt(2*np.pi))*weights[i] for i in range(3)])\n",
    "    return cost"
   ]
  },
  {
   "cell_type": "code",
   "execution_count": 4,
   "id": "987d6b5b-c73d-44f7-982e-89e4bf8690da",
   "metadata": {
    "tags": []
   },
   "outputs": [
    {
     "name": "stderr",
     "output_type": "stream",
     "text": [
      "/tmp/ipykernel_2532/1098467242.py:4: RuntimeWarning: Maximum number of function evaluations has been exceeded.\n",
      "  opt = minimize(cost, x0, method='Nelder-Mead', options={'disp':True}, callback=lambda x: costs.append(cost(x)))\n"
     ]
    }
   ],
   "source": [
    "x0 = np.random.random(3*(en+de))\n",
    "costs = []\n",
    "costs.append(cost(x0))\n",
    "opt = minimize(cost, x0, method='Nelder-Mead', options={'disp':True}, callback=lambda x: costs.append(cost(x)))"
   ]
  },
  {
   "cell_type": "code",
   "execution_count": 5,
   "id": "8cbdbbd8-d4e5-4860-8777-05dbcb6a0067",
   "metadata": {
    "tags": []
   },
   "outputs": [
    {
     "name": "stdout",
     "output_type": "stream",
     "text": [
      "Posterior width: 0.4259103853062732\n"
     ]
    }
   ],
   "source": [
    "print('Posterior width:', np.sqrt(min(costs)))"
   ]
  },
  {
   "cell_type": "code",
   "execution_count": null,
   "id": "87e7eaac-54d2-4346-95d6-5b65bc6cab39",
   "metadata": {},
   "outputs": [],
   "source": []
  }
 ],
 "metadata": {
  "kernelspec": {
   "display_name": "Python 3 [qiskit]",
   "language": "python",
   "name": "python3_qiskit_rofwu6"
  },
  "language_info": {
   "codemirror_mode": {
    "name": "ipython",
    "version": 3
   },
   "file_extension": ".py",
   "mimetype": "text/x-python",
   "name": "python",
   "nbconvert_exporter": "python",
   "pygments_lexer": "ipython3",
   "version": "3.9.18"
  }
 },
 "nbformat": 4,
 "nbformat_minor": 5
}
